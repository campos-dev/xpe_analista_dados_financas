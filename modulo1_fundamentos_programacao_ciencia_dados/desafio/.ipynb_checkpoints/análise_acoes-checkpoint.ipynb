{
 "cells": [
  {
   "cell_type": "code",
   "execution_count": null,
   "metadata": {
    "colab": {
     "base_uri": "https://localhost:8080/"
    },
    "id": "IvnCRIb1W1cj",
    "outputId": "1d7ed9c6-e6a1-405d-8b42-19882eab09a3"
   },
   "outputs": [],
   "source": [
    "# instalar a biblioteca Yahoo Finance\n",
    "!pip install yfinance"
   ]
  },
  {
   "cell_type": "code",
   "execution_count": null,
   "metadata": {
    "id": "AMfsNai6XYHv"
   },
   "outputs": [],
   "source": [
    "# importando o Yahoo Finance e o módulo para análise dos dados\n",
    "import yfinance as yf\n",
    "import datetime as dt\n",
    "from datetime import timedelta\n",
    "import numpy as np\n",
    "import pandas as pd\n",
    "import matplotlib.pyplot as plt"
   ]
  },
  {
   "cell_type": "code",
   "execution_count": null,
   "metadata": {
    "colab": {
     "base_uri": "https://localhost:8080/",
     "height": 542
    },
    "id": "J-o7F7EKin38",
    "outputId": "57c42cdd-bb4a-45cb-8233-b31511d25ace"
   },
   "outputs": [],
   "source": [
    "def data_entry():\n",
    "    # as variáveis foram definidas como globais para poderem ser usadas fora da função\n",
    "    global stock_code, start_date, end_date, data\n",
    "\n",
    "    #irá rodar este código caso não exista erro:\n",
    "    while True:\n",
    "        try:\n",
    "            print('Código da ação pode ser encontrado neste link: https://br.financas.yahoo.com/')\n",
    "            stock_code = input(\"Digite o código da ação (ex: BBDC4.SA): \").upper()\n",
    "            start_date = input(\"Digite a data de início no formato YYYY-MM-DD: \")\n",
    "            end_date = input(\"Digite a data de fim no formato YYYY-MM-DD: \")\n",
    "\n",
    "            # strptime: \"String To Parse Time\" - transforma string para datetime\n",
    "            # O código dt.datetime.strptime é usado para converter uma string que representa uma data e hora em um objeto datetime.\n",
    "            # modulo yfinance end diminui 1 dia do dado input, para consertar isso usa-se o timedelta e adiciona-se 1 dia de volta\n",
    "            end_date_adjusted = dt.datetime.strptime(end_date, '%Y-%m-%d') + timedelta(days=1)\n",
    "            # criação e exibição de um dataframe\n",
    "            # yf.download aceita tanto strings quanto objetos datetime como parâmetros de start e end.\n",
    "            data = yf.download(stock_code, start=start_date, end=end_date_adjusted )\n",
    "            display(data)\n",
    "            break\n",
    "\n",
    "        # irá rodar estas mensagens caso exista um erro\n",
    "        except Exception as e:\n",
    "          print(f\"\\nErro: {e}\")\n",
    "          print('''\n",
    "          Siga esta padrão para entrada de dados. Exemplo:\n",
    "          Digite o código da ação (ex: BBDC4.SA):BBDC4.SA\n",
    "          Digite a data de início no formato YYYY-MM-DD: 2008-01-01\n",
    "          Digite a data de fim no formato YYYY-MM-DD: 2023-01-01\n",
    "          ''')\n",
    "\n",
    "data_entry()"
   ]
  },
  {
   "cell_type": "code",
   "execution_count": null,
   "metadata": {
    "colab": {
     "base_uri": "https://localhost:8080/"
    },
    "id": "ljBKfNAQnIeC",
    "outputId": "d4f6dfb3-87bf-4ebb-efab-a4a85cbce793"
   },
   "outputs": [],
   "source": [
    "data.info()"
   ]
  },
  {
   "cell_type": "code",
   "execution_count": null,
   "metadata": {
    "colab": {
     "base_uri": "https://localhost:8080/"
    },
    "id": "eIMlWYqYZ9uJ",
    "outputId": "bccba59c-b86d-4220-e0c5-43cae2b510f4"
   },
   "outputs": [],
   "source": [
    "# valores estatísticos da ação na fechamento\n",
    "#round formatará para ficar com duas casas decimais\n",
    "\n",
    "arr_stock_close = np.array(data.Close)\n",
    "\n",
    "minimum = np.min(arr_stock_close)\n",
    "print(f\"Valor mínimo da ação {stock_code} no fechamento:\", round(minimum,2))\n",
    "\n",
    "maximum = np.max(arr_stock_close)\n",
    "print(f\"Valor máximo da ação {stock_code} no fechamento:\", round(maximum,2))\n",
    "\n",
    "mean = np.mean(arr_stock_close)\n",
    "print(f\"Valor médio da ação {stock_code} no fechamento:\", round(mean,2))\n",
    "\n",
    "median = np.median(arr_stock_close)\n",
    "print(f\"Mediana da ação {stock_code} no fechamento:\", round(median,2))\n",
    "\n",
    "standart_deviation = np.std(arr_stock_close)\n",
    "print(f\"O desvio padrão dos valores de {stock_code} no fechamento:\", round(standart_deviation,2))\n"
   ]
  },
  {
   "cell_type": "code",
   "execution_count": null,
   "metadata": {
    "colab": {
     "base_uri": "https://localhost:8080/"
    },
    "id": "XdQBvhay3I_I",
    "outputId": "f4ba2c97-3436-4796-c1d4-5dbf9b91942e"
   },
   "outputs": [],
   "source": [
    "# Encontrar os índices dos valores NaN\n",
    "missing_values = np.isnan(data.Close).sum()\n",
    "print(f\"NaN encontrados: {missing_values}\")\n",
    "# Tratando os valores ausentes (substituindo pela média, por exemplo)\n",
    "if missing_values > 0:\n",
    "    data['Close'].fillna(mean, inplace=True)"
   ]
  },
  {
   "cell_type": "code",
   "execution_count": null,
   "metadata": {
    "colab": {
     "base_uri": "https://localhost:8080/"
    },
    "id": "mnziq5qF9Ddn",
    "outputId": "34432139-32e4-4c29-b68d-c3deede2b2fe"
   },
   "outputs": [],
   "source": [
    "# criação da coluna variação percentual: preço de fechamento (Close) de um dia para o outro no DataFrame\n",
    "# O método pct_change() calcula a variação percentual entre o valor atual e um valor anterior.\n",
    "# Multiplicar por 100 transforma a variação em porcentagem.\n",
    "data['Variação Percentual'] = data['Close'].pct_change() * 100\n",
    "\n",
    "# dados mensais da coluna ‘Variação Percentual’.\n",
    "# O método resample('M') é usado para reamostrar os dados em uma frequência mensal.\n",
    "# O método agg() é então usado para calcular a média (mean) e a mediana (median) da variação percentual para cada mês.\n",
    "monthly_summary = data.resample('M').agg({'Variação Percentual': ['mean', 'median']})\n",
    "\n",
    "print(monthly_summary)\n"
   ]
  },
  {
   "cell_type": "code",
   "execution_count": null,
   "metadata": {
    "colab": {
     "base_uri": "https://localhost:8080/",
     "height": 564
    },
    "id": "x21_x7jc2Zeb",
    "outputId": "ad3f050f-230e-47cb-f24c-07838accd298"
   },
   "outputs": [],
   "source": [
    "plt.figure(figsize=(10, 6))\n",
    "# gráfico de linha da ação\n",
    "plt.plot(data.index, data[\"Close\"])\n",
    "plt.xlabel('Data')     # rótulo do eixo X\n",
    "plt.ylabel('Preço')   # rótulo do eixo Y\n",
    "plt.title('Evolução do Preço da Ação')  # Título do Gráfico\n",
    "plt.grid(True)        # Linhas de grades no gráfico\n",
    "plt.show()            # Exibe o Gráfico"
   ]
  },
  {
   "cell_type": "code",
   "execution_count": null,
   "metadata": {
    "colab": {
     "base_uri": "https://localhost:8080/",
     "height": 607
    },
    "id": "VYdWcJkm8YAk",
    "outputId": "8e12f5bf-3187-4530-b6ea-e4469a04b44a"
   },
   "outputs": [],
   "source": [
    "plt.figure(figsize=(12, 6))\n",
    "# Reamostragem de 'Volume' por mês e soma dos valores\n",
    "monthly_volume = data['Volume'].resample('M').sum()\n",
    "monthly_volume.plot(kind='bar', title=f'Volume de Negociações por Mês ({stock_code})', xlabel='Mês', ylabel='Volume')\n",
    "# Rotacionar as etiquetas do eixo x e as mostra de 6 em 6 meses para melhor legibilidade\n",
    "# strftime: \"String From Time\" - transforma datetime em string\n",
    "# date.strftime('%Y-%m') formata a data correspondente(date) mostrando o ano e o mês\n",
    "# i, date in enumerate descompacta cada elemento da enumeração, onde i é a posição do índice e date é o valor correspondente do índice\n",
    "# if i % 6 verifica se o índice atual(i) é um múltiplo de 6.\n",
    "# ha='right' alinhamento dos xticks à direita\n",
    "plt.xticks(range(0, len(monthly_volume.index), 6), [date.strftime('%Y-%m') for i, date in enumerate(monthly_volume.index) if i % 6 == 0], rotation=45, ha='right')\n",
    "plt.tight_layout()\n",
    "plt.show()"
   ]
  },
  {
   "cell_type": "code",
   "execution_count": null,
   "metadata": {
    "colab": {
     "base_uri": "https://localhost:8080/",
     "height": 564
    },
    "id": "fdIomnP4HN5j",
    "outputId": "1a7efa95-5d89-4a0e-9b03-713d04d46f6b"
   },
   "outputs": [],
   "source": [
    "# print(data['Volume'])\n",
    "\n",
    "from sklearn.preprocessing import StandardScaler\n",
    "\n",
    "# normalização dos valores\n",
    "scaler = StandardScaler()\n",
    "open_norm = scaler.fit_transform(data['Open'].values.reshape(-1, 1))\n",
    "volume_norm = scaler.fit_transform(data['Volume'].values.reshape(-1, 1))\n",
    "\n",
    "plt.figure(figsize=(10, 6))\n",
    "\n",
    "\n",
    "# Cria o o grafico de Volume\n",
    "plt.scatter(data.index, volume_norm, label='Volume', color='red', alpha=.7)\n",
    "# Cria o o grafico de Open\n",
    "plt.scatter(data.index, open_norm, label='Preço abertura', color='blue', alpha=.7)\n",
    "\n",
    "plt.xlabel('Preço de abertura Padronizado')\n",
    "plt.ylabel('Volume de vendas Padronizado')\n",
    "plt.title(f'Correlação entre preço de abertura e volume de vendas da {stock_code}') # Título do Gráfico\n",
    "plt.legend()\n",
    "plt.show()"
   ]
  }
 ],
 "metadata": {
  "colab": {
   "provenance": []
  },
  "kernelspec": {
   "display_name": "analise_dados",
   "language": "python",
   "name": "analise_dados"
  },
  "language_info": {
   "codemirror_mode": {
    "name": "ipython",
    "version": 3
   },
   "file_extension": ".py",
   "mimetype": "text/x-python",
   "name": "python",
   "nbconvert_exporter": "python",
   "pygments_lexer": "ipython3",
   "version": "3.8.3"
  }
 },
 "nbformat": 4,
 "nbformat_minor": 1
}
